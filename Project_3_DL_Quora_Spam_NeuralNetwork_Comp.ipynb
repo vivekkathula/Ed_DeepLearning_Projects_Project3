{
 "cells": [
  {
   "cell_type": "raw",
   "metadata": {},
   "source": [
    "Using RNN to solve the problem\n",
    "Steps\n",
    "1)Read the file, identify input and target\n",
    "2)Convert input which has questions into a numbers, so neural network can find the relation with output\n",
    "3)Find the tokens (all the words), vocabulary present, and assign number to each word (word2index)\n",
    "4)Once inputs and target are ready,we train them using RNN ( gradient descent, forward and back propagation)\n",
    "5)Find accuracy at few iterations, to identify weights\n",
    "6)Use the final weights on test data. "
   ]
  },
  {
   "cell_type": "code",
   "execution_count": 1,
   "metadata": {},
   "outputs": [],
   "source": [
    "# Download data from here : https://www.dropbox.com/sh/kpf9z73woodfssv/AAAw1_JIzpuVvwteJCma0xMla?dl=0\n",
    "import os\n",
    "import numpy as np\n",
    "import pandas as pd\n",
    "import sys\n",
    "os.chdir('/Users/vivekkathula/Dropbox/P3 Quora Text Classification with embeddings/')"
   ]
  },
  {
   "cell_type": "code",
   "execution_count": 2,
   "metadata": {},
   "outputs": [
    {
     "data": {
      "text/plain": [
       "['.DS_Store', 'glove.840B.300d.txt', 'train.csv']"
      ]
     },
     "execution_count": 2,
     "metadata": {},
     "output_type": "execute_result"
    }
   ],
   "source": [
    "os.listdir()  #Shows the files in the folder"
   ]
  },
  {
   "cell_type": "code",
   "execution_count": 3,
   "metadata": {},
   "outputs": [],
   "source": [
    "qu = pd.read_csv('train.csv')  # converting the CSV file into data frame"
   ]
  },
  {
   "cell_type": "raw",
   "metadata": {},
   "source": [
    "Understanding the data, and the problem"
   ]
  },
  {
   "cell_type": "code",
   "execution_count": 4,
   "metadata": {
    "scrolled": true
   },
   "outputs": [
    {
     "data": {
      "text/plain": [
       "(                    qid                                      question_text  \\\n",
       " 0  00002165364db923c7e6  How did Quebec nationalists see their province...   \n",
       " 1  000032939017120e6e44  Do you have an adopted dog, how would you enco...   \n",
       " 2  0000412ca6e4628ce2cf  Why does velocity affect time? Does velocity a...   \n",
       " 3  000042bf85aa498cd78e  How did Otto von Guericke used the Magdeburg h...   \n",
       " 4  0000455dfa3e01eae3af  Can I convert montra helicon D to a mountain b...   \n",
       " \n",
       "    target  \n",
       " 0       0  \n",
       " 1       0  \n",
       " 2       0  \n",
       " 3       0  \n",
       " 4       0  , (1306122, 3))"
      ]
     },
     "execution_count": 4,
     "metadata": {},
     "output_type": "execute_result"
    }
   ],
   "source": [
    "qu.head(), qu.shape"
   ]
  },
  {
   "cell_type": "code",
   "execution_count": 5,
   "metadata": {},
   "outputs": [
    {
     "data": {
      "text/plain": [
       "(pandas.core.series.Series,\n",
       " 1306122,\n",
       " 'How did Quebec nationalists see their province as a nation in the 1960s?')"
      ]
     },
     "execution_count": 5,
     "metadata": {},
     "output_type": "execute_result"
    }
   ],
   "source": [
    "questions=qu['question_text']\n",
    "type(questions),len(questions),questions[0]"
   ]
  },
  {
   "cell_type": "raw",
   "metadata": {},
   "source": [
    "Finding Tokens"
   ]
  },
  {
   "cell_type": "code",
   "execution_count": 6,
   "metadata": {},
   "outputs": [],
   "source": [
    "tokens = list(map(lambda x:set(x.split(\" \")),questions))   # similar to relu activation function"
   ]
  },
  {
   "cell_type": "code",
   "execution_count": 7,
   "metadata": {},
   "outputs": [
    {
     "data": {
      "text/plain": [
       "(1306122,\n",
       " {'1960s?',\n",
       "  'How',\n",
       "  'Quebec',\n",
       "  'a',\n",
       "  'as',\n",
       "  'did',\n",
       "  'in',\n",
       "  'nation',\n",
       "  'nationalists',\n",
       "  'province',\n",
       "  'see',\n",
       "  'the',\n",
       "  'their'})"
      ]
     },
     "execution_count": 7,
     "metadata": {},
     "output_type": "execute_result"
    }
   ],
   "source": [
    "len(tokens), tokens[0] #we now know total rows are 1,306122, "
   ]
  },
  {
   "cell_type": "code",
   "execution_count": 8,
   "metadata": {},
   "outputs": [
    {
     "data": {
      "text/plain": [
       "set"
      ]
     },
     "execution_count": 8,
     "metadata": {},
     "output_type": "execute_result"
    }
   ],
   "source": [
    "type(tokens)            #list,\n",
    "type(tokens[0])         #set"
   ]
  },
  {
   "cell_type": "code",
   "execution_count": 9,
   "metadata": {},
   "outputs": [
    {
     "data": {
      "text/plain": [
       "15850723"
      ]
     },
     "execution_count": 9,
     "metadata": {},
     "output_type": "execute_result"
    }
   ],
   "source": [
    "x=0\n",
    "for i in range(1306122): #we already know total rows are 1,306122 from earlier test\n",
    "    x=x+len(list(tokens[i]))\n",
    "x\n",
    "#tokens[i]is set(), so we convert it to list, so total words used are 1,5850723"
   ]
  },
  {
   "cell_type": "raw",
   "metadata": {},
   "source": [
    "Finding vocabulary"
   ]
  },
  {
   "cell_type": "code",
   "execution_count": 10,
   "metadata": {},
   "outputs": [
    {
     "data": {
      "text/plain": [
       "(15850723, 509039, 15341684)"
      ]
     },
     "execution_count": 10,
     "metadata": {},
     "output_type": "execute_result"
    }
   ],
   "source": [
    "i=0\n",
    "vocab = set()\n",
    "others=set()\n",
    "for sent in tokens:\n",
    "    for word in sent:\n",
    "        i=i+1\n",
    "        if(len(word)>0):\n",
    "            vocab.add(word)\n",
    "        else:\n",
    "             others.add(word)   \n",
    "vocab = list(vocab)\n",
    "others=list(others)#just a no-space, sum of no spaces is nospace\n",
    "i,len(vocab),i-len(vocab)\n",
    "\n",
    "#In our earlier line, we got total words as 15850723, but vocab has only 509309 words, so why the difference"
   ]
  },
  {
   "cell_type": "code",
   "execution_count": 11,
   "metadata": {},
   "outputs": [
    {
     "data": {
      "text/plain": [
       "['']"
      ]
     },
     "execution_count": 11,
     "metadata": {},
     "output_type": "execute_result"
    }
   ],
   "source": [
    "others[0:15341684] # as you can see the difference is nospace \"\", we have to remove them while numbering words"
   ]
  },
  {
   "cell_type": "code",
   "execution_count": 12,
   "metadata": {},
   "outputs": [
    {
     "data": {
      "text/plain": [
       "(509039, '2000ghc?', 13)"
      ]
     },
     "execution_count": 12,
     "metadata": {},
     "output_type": "execute_result"
    }
   ],
   "source": [
    "import numpy as np\n",
    "len(vocab),vocab[0],len(tokens[0])"
   ]
  },
  {
   "cell_type": "raw",
   "metadata": {},
   "source": [
    "Creating a dictionary called word2index, this assigns every word a number"
   ]
  },
  {
   "cell_type": "code",
   "execution_count": 13,
   "metadata": {},
   "outputs": [],
   "source": [
    "word2index = {}#dictionary to give a number to each word in our vocabulary\n",
    "for i,word in enumerate(vocab):\n",
    "    word2index[word]=i"
   ]
  },
  {
   "cell_type": "raw",
   "metadata": {},
   "source": [
    "Creating a Input, Target dataset, its just the numbers assigned to words in word2index"
   ]
  },
  {
   "cell_type": "code",
   "execution_count": 14,
   "metadata": {},
   "outputs": [],
   "source": [
    "input_dataset = list()\n",
    "for sent in tokens:\n",
    "    sent_indices = list()\n",
    "    for word in sent:\n",
    "        try:\n",
    "            sent_indices.append(word2index[word])\n",
    "        except:\n",
    "            \"\" # we saw these in others\n",
    "    input_dataset.append(list(set(sent_indices)))"
   ]
  },
  {
   "cell_type": "code",
   "execution_count": 15,
   "metadata": {},
   "outputs": [],
   "source": [
    "target_dataset = qu['target'] #target is already 1/0's so we dont have to convert them. "
   ]
  },
  {
   "cell_type": "code",
   "execution_count": 16,
   "metadata": {},
   "outputs": [
    {
     "data": {
      "text/plain": [
       "(1306122, 1175509.8, 130612.19999999995)"
      ]
     },
     "execution_count": 16,
     "metadata": {},
     "output_type": "execute_result"
    }
   ],
   "source": [
    "len(target_dataset), len(target_dataset)*0.9, len(target_dataset)-len(target_dataset)*0.9"
   ]
  },
  {
   "cell_type": "code",
   "execution_count": 17,
   "metadata": {},
   "outputs": [
    {
     "data": {
      "text/plain": [
       "(1306122, 1306122)"
      ]
     },
     "execution_count": 17,
     "metadata": {},
     "output_type": "execute_result"
    }
   ],
   "source": [
    "len(input_dataset),len(target_dataset)"
   ]
  },
  {
   "cell_type": "raw",
   "metadata": {},
   "source": [
    "Creating random weights as needed, neural network works to find best weights"
   ]
  },
  {
   "cell_type": "code",
   "execution_count": 18,
   "metadata": {},
   "outputs": [],
   "source": [
    "import numpy as np \n",
    "np.random.seed(1)\n",
    "def sigmoid(x):\n",
    "    return 1/(1+np.exp(-x))\n",
    "\n",
    "alpha, iterations= (0.01, 2)\n",
    "hidden_size = 100\n",
    "weights_0_1 = 0.2*np.random.random((len(vocab),hidden_size)) - 0.1 # shape is (509039, 100)\n",
    "weights_1_2 = 0.2*np.random.random((hidden_size,1)) - 0.1  # shape is (100, 1)"
   ]
  },
  {
   "cell_type": "raw",
   "metadata": {},
   "source": [
    "Training the Data"
   ]
  },
  {
   "cell_type": "code",
   "execution_count": 19,
   "metadata": {},
   "outputs": [
    {
     "name": "stdout",
     "output_type": "stream",
     "text": [
      "Iter:0 Progress:89.99% Training Accuracy:0.9491812064550705%\n",
      "Iter:1 Progress:89.99% Training Accuracy:0.9511131338738079%\n",
      "Iter:2 Progress:89.99% Training Accuracy:0.9521161027979345%\n"
     ]
    }
   ],
   "source": [
    "#I was all shapes by keeping iterations very less\n",
    "alpha, iterations = (0.01, 3)\n",
    "hidden_size = 100\n",
    "z=0\n",
    "#print('weights_0_1 '+str(weights_0_1.shape))\n",
    "#print('weights_1_2 '+str(weights_1_2.shape))\n",
    "#print(\"\")\n",
    "correct,total = (0,0)\n",
    "\n",
    "for iter in range(iterations):\n",
    "    for i in range(len(input_dataset)-130612):\n",
    "        x,y = input_dataset[i],target_dataset[i] # x has 13 word in i=0, and keep changing, while y is 0/1\n",
    "        #print('length of x '+ str(len(x)))\n",
    "        #print(y)\n",
    "        #print('weights_0_1[x] '+str(weights_0_1[x].shape)) \n",
    "        #z=np.sum(weights_0_1[x])\n",
    "        #print('np.sum(weights_0_1[x] '+str(z.shape))\n",
    "        layer_1 = sigmoid(np.sum(weights_0_1[x],axis=0)) # w1 shape becomes (13, 100) &changes wit iter, l1 is (100,)\n",
    "        #print('layer_1 '+str(layer_1.shape))\n",
    "        layer_2 = sigmoid(np.dot(layer_1,weights_1_2))# w2 is (100, 1) changes, l2 is (1,)\n",
    "        #print('layer_2 '+str(layer_2.shape))\n",
    "        layer_2_delta = layer_2 - y   # shape is (1,)\n",
    "        #print('layer_2_delta '+str(layer_2_delta.shape))\n",
    "        layer_1_delta = layer_2_delta.dot(weights_1_2.T)  #shape is (100,)\n",
    "        #print('layer_1_delta '+str(layer_1_delta.shape))\n",
    "        weights_0_1[x] -= layer_1_delta * alpha # shape of W1 now adjust back to original (509039, 100)\n",
    "        #print('new weights_0_1 '+str(weights_0_1.shape))\n",
    "        weights_1_2 -= np.outer(layer_1,layer_2_delta) * alpha # shape is (100, 1)\n",
    "        #print('new_weights_1_2 '+str(weights_1_2.shape))\n",
    "        if(np.abs(layer_2_delta) < 0.5): \n",
    "            correct += 1\n",
    "        total += 1\n",
    "        #print(\"\")\n",
    "        if(i % 10 == 9):\n",
    "            progress = str(i/float(len(input_dataset))) \n",
    "            sys.stdout.write('\\rIter:'+str(iter)\n",
    "                             +' Progress:'+progress[2:4] +'.'+progress[4:6]\n",
    "                             +'% Training Accuracy:'+ str(correct/float(total)) + '%')\n",
    "    print()\n"
   ]
  },
  {
   "cell_type": "raw",
   "metadata": {},
   "source": [
    "Making predictions on test"
   ]
  },
  {
   "cell_type": "code",
   "execution_count": 20,
   "metadata": {},
   "outputs": [
    {
     "name": "stdout",
     "output_type": "stream",
     "text": [
      "Test Accuracy:0.9508161577802958\n"
     ]
    }
   ],
   "source": [
    "#Accuracy is rights/total it is used here\n",
    "pred= list()\n",
    "true=list()\n",
    "correct,total = (0,0)\n",
    "for i in range(len(input_dataset)-130612,len(input_dataset)):\n",
    "    x = input_dataset[i] \n",
    "    y = target_dataset[i]\n",
    "    true.append(y)\n",
    "    layer_1 = sigmoid(np.sum(weights_0_1[x],axis=0)) \n",
    "    layer_2 = sigmoid(np.dot(layer_1,weights_1_2))\n",
    "    pred.append(layer_2)\n",
    "    if(np.abs(layer_2 - y) < 0.5): correct += 1\n",
    "    total += 1\n",
    "print(\"Test Accuracy:\" + str(correct / float(total)))"
   ]
  },
  {
   "cell_type": "code",
   "execution_count": 21,
   "metadata": {},
   "outputs": [
    {
     "data": {
      "text/plain": [
       "0.9417972838205579"
      ]
     },
     "execution_count": 21,
     "metadata": {},
     "output_type": "execute_result"
    }
   ],
   "source": [
    "#This is other common metric to know accuracy, so I tried this too to check \n",
    "from sklearn.metrics import roc_auc_score\n",
    "roc_auc_score(true,pred)"
   ]
  },
  {
   "cell_type": "raw",
   "metadata": {},
   "source": [
    "Neural Network Structure"
   ]
  },
  {
   "cell_type": "code",
   "execution_count": 22,
   "metadata": {},
   "outputs": [
    {
     "data": {
      "image/png": "[encoded data removed]",
      "text/plain": [
       "<PIL.JpegImagePlugin.JpegImageFile image mode=RGB size=1024x768 at 0x1AC1AB5438>"
      ]
     },
     "execution_count": 22,
     "metadata": {},
     "output_type": "execute_result"
    }
   ],
   "source": [
    "import os\n",
    "from PIL import Image\n",
    "os.chdir('/Users/vivekkathula/Desktop/Github/Edvancer/Deep learning/Project_3_Spam filter for Quora questions/')\n",
    "img1 = Image.open ('P3 Neural Network.001.jpeg');\n",
    "img1"
   ]
  }
 ],
 "metadata": {
  "kernelspec": {
   "display_name": "Python 3",
   "language": "python",
   "name": "python3"
  },
  "language_info": {
   "codemirror_mode": {
    "name": "ipython",
    "version": 3
   },
   "file_extension": ".py",
   "mimetype": "text/x-python",
   "name": "python",
   "nbconvert_exporter": "python",
   "pygments_lexer": "ipython3",
   "version": "3.6.4"
  }
 },
 "nbformat": 4,
 "nbformat_minor": 2
}
